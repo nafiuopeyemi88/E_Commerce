{
  "cells": [
    {
      "cell_type": "markdown",
      "metadata": {
        "id": "view-in-github",
        "colab_type": "text"
      },
      "source": [
        "<a href=\"https://colab.research.google.com/github/nafiuopeyemi88/E_Commerce/blob/main/RF_model_farm_sentinel.ipynb\" target=\"_parent\"><img src=\"https://colab.research.google.com/assets/colab-badge.svg\" alt=\"Open In Colab\"/></a>"
      ]
    },
    {
      "cell_type": "code",
      "execution_count": null,
      "metadata": {
        "colab": {
          "base_uri": "https://localhost:8080/"
        },
        "id": "GFr7Z-ZkM2HB",
        "outputId": "17069fab-1617-4f25-dcae-808ef5b8f6d7"
      },
      "outputs": [
        {
          "output_type": "stream",
          "name": "stdout",
          "text": [
            "Looking in indexes: https://pypi.org/simple, https://us-python.pkg.dev/colab-wheels/public/simple/\n",
            "Collecting geopandas\n",
            "  Downloading geopandas-0.10.2-py2.py3-none-any.whl (1.0 MB)\n",
            "\u001b[K     |████████████████████████████████| 1.0 MB 6.9 MB/s \n",
            "\u001b[?25hCollecting rasterio\n",
            "  Downloading rasterio-1.2.10-cp37-cp37m-manylinux1_x86_64.whl (19.3 MB)\n",
            "\u001b[K     |████████████████████████████████| 19.3 MB 362 kB/s \n",
            "\u001b[?25hCollecting rasterstats\n",
            "  Downloading rasterstats-0.17.0-py3-none-any.whl (16 kB)\n",
            "Requirement already satisfied: shapely in /usr/local/lib/python3.7/dist-packages (1.8.4)\n",
            "Collecting pyproj>=2.2.0\n",
            "  Downloading pyproj-3.2.1-cp37-cp37m-manylinux2010_x86_64.whl (6.3 MB)\n",
            "\u001b[K     |████████████████████████████████| 6.3 MB 26.8 MB/s \n",
            "\u001b[?25hRequirement already satisfied: pandas>=0.25.0 in /usr/local/lib/python3.7/dist-packages (from geopandas) (1.3.5)\n",
            "Collecting fiona>=1.8\n",
            "  Downloading Fiona-1.8.21-cp37-cp37m-manylinux2014_x86_64.whl (16.7 MB)\n",
            "\u001b[K     |████████████████████████████████| 16.7 MB 46.1 MB/s \n",
            "\u001b[?25hRequirement already satisfied: certifi in /usr/local/lib/python3.7/dist-packages (from fiona>=1.8->geopandas) (2022.6.15)\n",
            "Collecting cligj>=0.5\n",
            "  Downloading cligj-0.7.2-py3-none-any.whl (7.1 kB)\n",
            "Requirement already satisfied: click>=4.0 in /usr/local/lib/python3.7/dist-packages (from fiona>=1.8->geopandas) (7.1.2)\n",
            "Collecting click-plugins>=1.0\n",
            "  Downloading click_plugins-1.1.1-py2.py3-none-any.whl (7.5 kB)\n",
            "Requirement already satisfied: six>=1.7 in /usr/local/lib/python3.7/dist-packages (from fiona>=1.8->geopandas) (1.15.0)\n",
            "Requirement already satisfied: attrs>=17 in /usr/local/lib/python3.7/dist-packages (from fiona>=1.8->geopandas) (22.1.0)\n",
            "Requirement already satisfied: setuptools in /usr/local/lib/python3.7/dist-packages (from fiona>=1.8->geopandas) (57.4.0)\n",
            "Collecting munch\n",
            "  Downloading munch-2.5.0-py2.py3-none-any.whl (10 kB)\n",
            "Requirement already satisfied: numpy>=1.17.3 in /usr/local/lib/python3.7/dist-packages (from pandas>=0.25.0->geopandas) (1.21.6)\n",
            "Requirement already satisfied: pytz>=2017.3 in /usr/local/lib/python3.7/dist-packages (from pandas>=0.25.0->geopandas) (2022.2.1)\n",
            "Requirement already satisfied: python-dateutil>=2.7.3 in /usr/local/lib/python3.7/dist-packages (from pandas>=0.25.0->geopandas) (2.8.2)\n",
            "Collecting snuggs>=1.4.1\n",
            "  Downloading snuggs-1.4.7-py3-none-any.whl (5.4 kB)\n",
            "Collecting affine\n",
            "  Downloading affine-2.3.1-py2.py3-none-any.whl (16 kB)\n",
            "Requirement already satisfied: pyparsing>=2.1.6 in /usr/local/lib/python3.7/dist-packages (from snuggs>=1.4.1->rasterio) (3.0.9)\n",
            "Collecting simplejson\n",
            "  Downloading simplejson-3.17.6-cp37-cp37m-manylinux_2_5_x86_64.manylinux1_x86_64.manylinux_2_12_x86_64.manylinux2010_x86_64.whl (130 kB)\n",
            "\u001b[K     |████████████████████████████████| 130 kB 72.2 MB/s \n",
            "\u001b[?25hInstalling collected packages: snuggs, munch, cligj, click-plugins, affine, simplejson, rasterio, pyproj, fiona, rasterstats, geopandas\n",
            "Successfully installed affine-2.3.1 click-plugins-1.1.1 cligj-0.7.2 fiona-1.8.21 geopandas-0.10.2 munch-2.5.0 pyproj-3.2.1 rasterio-1.2.10 rasterstats-0.17.0 simplejson-3.17.6 snuggs-1.4.7\n"
          ]
        }
      ],
      "source": [
        "%pip install geopandas rasterio rasterstats shapely"
      ]
    },
    {
      "cell_type": "code",
      "execution_count": null,
      "metadata": {
        "colab": {
          "base_uri": "https://localhost:8080/"
        },
        "id": "BvZRQMloNqNM",
        "outputId": "0888c4a6-9139-4b30-a974-d36204c57736"
      },
      "outputs": [
        {
          "output_type": "stream",
          "name": "stdout",
          "text": [
            "Looking in indexes: https://pypi.org/simple, https://us-python.pkg.dev/colab-wheels/public/simple/\n",
            "Requirement already satisfied: scikit-learn in /usr/local/lib/python3.7/dist-packages (1.0.2)\n",
            "Requirement already satisfied: scipy>=1.1.0 in /usr/local/lib/python3.7/dist-packages (from scikit-learn) (1.7.3)\n",
            "Requirement already satisfied: threadpoolctl>=2.0.0 in /usr/local/lib/python3.7/dist-packages (from scikit-learn) (3.1.0)\n",
            "Requirement already satisfied: joblib>=0.11 in /usr/local/lib/python3.7/dist-packages (from scikit-learn) (1.1.0)\n",
            "Requirement already satisfied: numpy>=1.14.6 in /usr/local/lib/python3.7/dist-packages (from scikit-learn) (1.21.6)\n"
          ]
        }
      ],
      "source": [
        "%pip install scikit-learn"
      ]
    },
    {
      "cell_type": "code",
      "execution_count": null,
      "metadata": {
        "colab": {
          "base_uri": "https://localhost:8080/"
        },
        "id": "uiZEQUKZNspl",
        "outputId": "7c32e7f2-8d88-45ca-c4ab-17402cca8fe3"
      },
      "outputs": [
        {
          "output_type": "stream",
          "name": "stdout",
          "text": [
            "Looking in indexes: https://pypi.org/simple, https://us-python.pkg.dev/colab-wheels/public/simple/\n",
            "Collecting treeinterpreter\n",
            "  Downloading treeinterpreter-0.2.3-py2.py3-none-any.whl (6.0 kB)\n",
            "Installing collected packages: treeinterpreter\n",
            "Successfully installed treeinterpreter-0.2.3\n"
          ]
        }
      ],
      "source": [
        "%pip install treeinterpreter"
      ]
    },
    {
      "cell_type": "code",
      "execution_count": null,
      "metadata": {
        "id": "A66ud81bN5kl"
      },
      "outputs": [],
      "source": [
        "#import required libraries/modules\n",
        "import numpy as np\n",
        "import geopandas as gpd\n",
        "import shapely as shp\n",
        "import matplotlib.pyplot as plt\n",
        "import rasterio \n",
        "from rasterio.features import rasterize\n",
        "from rasterstats.io import bounds_window\n",
        "import rasterstats\n",
        "import folium\n",
        "from os import path as op\n",
        "import pickle\n",
        "from sklearn.metrics import confusion_matrix\n",
        "from sklearn.model_selection import train_test_split\n",
        "from sklearn.ensemble import RandomForestClassifier\n",
        "from treeinterpreter import treeinterpreter as ti\n"
      ]
    },
    {
      "cell_type": "code",
      "execution_count": null,
      "metadata": {
        "colab": {
          "base_uri": "https://localhost:8080/"
        },
        "id": "7dezAMwlN9KD",
        "outputId": "a0909019-dbc5-4e68-fa83-b2f620994e74"
      },
      "outputs": [
        {
          "output_type": "stream",
          "name": "stdout",
          "text": [
            "Mounted at /content/drive/\n"
          ]
        }
      ],
      "source": [
        "#files used in this project are stored in google drive\n",
        "from google.colab import drive\n",
        "drive.mount('/content/drive/', force_remount=True)"
      ]
    },
    {
      "cell_type": "code",
      "execution_count": null,
      "metadata": {
        "id": "E5vmknIdOeRd"
      },
      "outputs": [],
      "source": [
        "root_dir = \"/content/drive/My Drive/Colab Notebooks/Image_classification_data\""
      ]
    },
    {
      "cell_type": "code",
      "execution_count": null,
      "metadata": {
        "id": "jMIj50GkOkKF"
      },
      "outputs": [],
      "source": [
        "#the training data is read in from the shapefile created\n",
        "training_data = '/content/drive/My Drive/Colab Notebooks/Image_classification_data/Eyork_training.shp'\n",
        "training_vectors = gpd.read_file(training_data)\n",
        "\n"
      ]
    },
    {
      "cell_type": "code",
      "execution_count": null,
      "metadata": {
        "colab": {
          "base_uri": "https://localhost:8080/",
          "height": 269
        },
        "id": "RhKurDVsPP4S",
        "outputId": "df42d512-8bc0-491e-ed93-b28702515572"
      },
      "outputs": [
        {
          "output_type": "execute_result",
          "data": {
            "text/plain": [
              "   Id           Name                                           geometry\n",
              "0   0          Urban  MULTIPOLYGON (((674945.285 5966643.651, 674939...\n",
              "1   0          Wheat  MULTIPOLYGON (((675330.958 5967084.441, 675329...\n",
              "2   0   Vining_Beans  MULTIPOLYGON (((675858.904 5967297.923, 675841...\n",
              "3   0          Grass  MULTIPOLYGON (((675207.697 5967883.093, 675202...\n",
              "4   0  Oil_seed_rape  POLYGON ((675458.775 5967613.887, 675474.650 5...\n",
              "5   0  Oil_seed_rape  POLYGON ((675500.051 5967648.812, 675520.688 5...\n",
              "6   0  Oil_seed_rape  POLYGON ((675375.432 5967618.650, 675384.163 5..."
            ],
            "text/html": [
              "\n",
              "  <div id=\"df-132bbf59-976b-4d22-8903-4147d6544454\">\n",
              "    <div class=\"colab-df-container\">\n",
              "      <div>\n",
              "<style scoped>\n",
              "    .dataframe tbody tr th:only-of-type {\n",
              "        vertical-align: middle;\n",
              "    }\n",
              "\n",
              "    .dataframe tbody tr th {\n",
              "        vertical-align: top;\n",
              "    }\n",
              "\n",
              "    .dataframe thead th {\n",
              "        text-align: right;\n",
              "    }\n",
              "</style>\n",
              "<table border=\"1\" class=\"dataframe\">\n",
              "  <thead>\n",
              "    <tr style=\"text-align: right;\">\n",
              "      <th></th>\n",
              "      <th>Id</th>\n",
              "      <th>Name</th>\n",
              "      <th>geometry</th>\n",
              "    </tr>\n",
              "  </thead>\n",
              "  <tbody>\n",
              "    <tr>\n",
              "      <th>0</th>\n",
              "      <td>0</td>\n",
              "      <td>Urban</td>\n",
              "      <td>MULTIPOLYGON (((674945.285 5966643.651, 674939...</td>\n",
              "    </tr>\n",
              "    <tr>\n",
              "      <th>1</th>\n",
              "      <td>0</td>\n",
              "      <td>Wheat</td>\n",
              "      <td>MULTIPOLYGON (((675330.958 5967084.441, 675329...</td>\n",
              "    </tr>\n",
              "    <tr>\n",
              "      <th>2</th>\n",
              "      <td>0</td>\n",
              "      <td>Vining_Beans</td>\n",
              "      <td>MULTIPOLYGON (((675858.904 5967297.923, 675841...</td>\n",
              "    </tr>\n",
              "    <tr>\n",
              "      <th>3</th>\n",
              "      <td>0</td>\n",
              "      <td>Grass</td>\n",
              "      <td>MULTIPOLYGON (((675207.697 5967883.093, 675202...</td>\n",
              "    </tr>\n",
              "    <tr>\n",
              "      <th>4</th>\n",
              "      <td>0</td>\n",
              "      <td>Oil_seed_rape</td>\n",
              "      <td>POLYGON ((675458.775 5967613.887, 675474.650 5...</td>\n",
              "    </tr>\n",
              "    <tr>\n",
              "      <th>5</th>\n",
              "      <td>0</td>\n",
              "      <td>Oil_seed_rape</td>\n",
              "      <td>POLYGON ((675500.051 5967648.812, 675520.688 5...</td>\n",
              "    </tr>\n",
              "    <tr>\n",
              "      <th>6</th>\n",
              "      <td>0</td>\n",
              "      <td>Oil_seed_rape</td>\n",
              "      <td>POLYGON ((675375.432 5967618.650, 675384.163 5...</td>\n",
              "    </tr>\n",
              "  </tbody>\n",
              "</table>\n",
              "</div>\n",
              "      <button class=\"colab-df-convert\" onclick=\"convertToInteractive('df-132bbf59-976b-4d22-8903-4147d6544454')\"\n",
              "              title=\"Convert this dataframe to an interactive table.\"\n",
              "              style=\"display:none;\">\n",
              "        \n",
              "  <svg xmlns=\"http://www.w3.org/2000/svg\" height=\"24px\"viewBox=\"0 0 24 24\"\n",
              "       width=\"24px\">\n",
              "    <path d=\"M0 0h24v24H0V0z\" fill=\"none\"/>\n",
              "    <path d=\"M18.56 5.44l.94 2.06.94-2.06 2.06-.94-2.06-.94-.94-2.06-.94 2.06-2.06.94zm-11 1L8.5 8.5l.94-2.06 2.06-.94-2.06-.94L8.5 2.5l-.94 2.06-2.06.94zm10 10l.94 2.06.94-2.06 2.06-.94-2.06-.94-.94-2.06-.94 2.06-2.06.94z\"/><path d=\"M17.41 7.96l-1.37-1.37c-.4-.4-.92-.59-1.43-.59-.52 0-1.04.2-1.43.59L10.3 9.45l-7.72 7.72c-.78.78-.78 2.05 0 2.83L4 21.41c.39.39.9.59 1.41.59.51 0 1.02-.2 1.41-.59l7.78-7.78 2.81-2.81c.8-.78.8-2.07 0-2.86zM5.41 20L4 18.59l7.72-7.72 1.47 1.35L5.41 20z\"/>\n",
              "  </svg>\n",
              "      </button>\n",
              "      \n",
              "  <style>\n",
              "    .colab-df-container {\n",
              "      display:flex;\n",
              "      flex-wrap:wrap;\n",
              "      gap: 12px;\n",
              "    }\n",
              "\n",
              "    .colab-df-convert {\n",
              "      background-color: #E8F0FE;\n",
              "      border: none;\n",
              "      border-radius: 50%;\n",
              "      cursor: pointer;\n",
              "      display: none;\n",
              "      fill: #1967D2;\n",
              "      height: 32px;\n",
              "      padding: 0 0 0 0;\n",
              "      width: 32px;\n",
              "    }\n",
              "\n",
              "    .colab-df-convert:hover {\n",
              "      background-color: #E2EBFA;\n",
              "      box-shadow: 0px 1px 2px rgba(60, 64, 67, 0.3), 0px 1px 3px 1px rgba(60, 64, 67, 0.15);\n",
              "      fill: #174EA6;\n",
              "    }\n",
              "\n",
              "    [theme=dark] .colab-df-convert {\n",
              "      background-color: #3B4455;\n",
              "      fill: #D2E3FC;\n",
              "    }\n",
              "\n",
              "    [theme=dark] .colab-df-convert:hover {\n",
              "      background-color: #434B5C;\n",
              "      box-shadow: 0px 1px 3px 1px rgba(0, 0, 0, 0.15);\n",
              "      filter: drop-shadow(0px 1px 2px rgba(0, 0, 0, 0.3));\n",
              "      fill: #FFFFFF;\n",
              "    }\n",
              "  </style>\n",
              "\n",
              "      <script>\n",
              "        const buttonEl =\n",
              "          document.querySelector('#df-132bbf59-976b-4d22-8903-4147d6544454 button.colab-df-convert');\n",
              "        buttonEl.style.display =\n",
              "          google.colab.kernel.accessAllowed ? 'block' : 'none';\n",
              "\n",
              "        async function convertToInteractive(key) {\n",
              "          const element = document.querySelector('#df-132bbf59-976b-4d22-8903-4147d6544454');\n",
              "          const dataTable =\n",
              "            await google.colab.kernel.invokeFunction('convertToInteractive',\n",
              "                                                     [key], {});\n",
              "          if (!dataTable) return;\n",
              "\n",
              "          const docLinkHtml = 'Like what you see? Visit the ' +\n",
              "            '<a target=\"_blank\" href=https://colab.research.google.com/notebooks/data_table.ipynb>data table notebook</a>'\n",
              "            + ' to learn more about interactive tables.';\n",
              "          element.innerHTML = '';\n",
              "          dataTable['output_type'] = 'display_data';\n",
              "          await google.colab.output.renderOutput(dataTable, element);\n",
              "          const docLink = document.createElement('div');\n",
              "          docLink.innerHTML = docLinkHtml;\n",
              "          element.appendChild(docLink);\n",
              "        }\n",
              "      </script>\n",
              "    </div>\n",
              "  </div>\n",
              "  "
            ]
          },
          "metadata": {},
          "execution_count": 7
        }
      ],
      "source": [
        "# creating a boundary box for mapping\n",
        "bbox = training_vectors.total_bounds\n",
        "center = shp.geometry.box(bbox[0], bbox[1], bbox[2], bbox[3]).centroid\n",
        "\n",
        "training_vectors.head(7)"
      ]
    },
    {
      "cell_type": "code",
      "execution_count": null,
      "metadata": {
        "colab": {
          "base_uri": "https://localhost:8080/"
        },
        "id": "c1DocP6XPcjc",
        "outputId": "4436f5bd-4e52-4423-da8a-b3f02203aa6c"
      },
      "outputs": [
        {
          "output_type": "execute_result",
          "data": {
            "text/plain": [
              "array(['Grass', 'Oil_seed_rape', 'Urban', 'Vining_Beans', 'Wheat'],\n",
              "      dtype=object)"
            ]
          },
          "metadata": {},
          "execution_count": 8
        }
      ],
      "source": [
        "#getting unique training site classes, sorted by name\n",
        "classes = np.unique(training_vectors.Name)\n",
        "classes"
      ]
    },
    {
      "cell_type": "code",
      "execution_count": null,
      "metadata": {
        "colab": {
          "base_uri": "https://localhost:8080/"
        },
        "id": "EadLZ_BIPjgO",
        "outputId": "cdba74cf-3521-4d12-8a87-f55a4648b0bf"
      },
      "outputs": [
        {
          "output_type": "execute_result",
          "data": {
            "text/plain": [
              "{'Grass': 0, 'Oil_seed_rape': 1, 'Urban': 2, 'Vining_Beans': 3, 'Wheat': 4}"
            ]
          },
          "metadata": {},
          "execution_count": 9
        }
      ],
      "source": [
        "class_dict = dict(zip(classes, range(len(classes))))\n",
        "class_dict "
      ]
    },
    {
      "cell_type": "code",
      "execution_count": null,
      "metadata": {
        "id": "uBYdzZvDPpcG"
      },
      "outputs": [],
      "source": [
        "#image file\n",
        "#reading in the layer_stacked image file for classification\n",
        "raster_file = '/content/drive/My Drive/Colab Notebooks/Image_classification_data/sentinel.tif'\n",
        "#raster file for testing the model\n"
      ]
    },
    {
      "cell_type": "code",
      "execution_count": null,
      "metadata": {
        "id": "HTA6ojp9QyVV"
      },
      "outputs": [],
      "source": [
        "def all_values(x):\n",
        "    return x\n",
        "\n",
        "# this larger cell reads data from a raster file for each training vector\n",
        "X_raw = []\n",
        "y_raw = []\n",
        "with rasterio.open(raster_file, 'r') as src:\n",
        "    for (label, geom) in zip(training_vectors.Name, training_vectors.geometry):\n",
        "        \n",
        "        # read the raster data matching the geometry bounds\n",
        "        window = bounds_window(geom.bounds, src.transform)\n",
        "        # store our window information\n",
        "        window_affine = src.window_transform(window)\n",
        "        fsrc = src.read(window=window)\n",
        "        # rasterize the geometry into the larger shape and affine\n",
        "        mask = rasterize(\n",
        "            [(geom, 1)],\n",
        "            out_shape=fsrc.shape[1:],\n",
        "            transform=window_affine,\n",
        "            fill=0,\n",
        "            dtype='uint8',\n",
        "            all_touched=True\n",
        "        ).astype(bool)\n",
        "        \n",
        "        # for each label pixel (places where the mask is true)\n",
        "        label_pixels = np.argwhere(mask)\n",
        "        \n",
        "        for (row, col) in label_pixels:\n",
        "            # add a pixel of data to X\n",
        "            data = fsrc[:,row,col]\n",
        "            one_x = np.nan_to_num(data, nan=1e-3)\n",
        "            X_raw.append(one_x)\n",
        "            # add the label to y\n",
        "            y_raw.append(class_dict[label])\n"
      ]
    },
    {
      "cell_type": "code",
      "execution_count": null,
      "metadata": {
        "colab": {
          "base_uri": "https://localhost:8080/"
        },
        "id": "h-wm2yoLQ-QW",
        "outputId": "844b50b2-94cb-4fc2-a473-f6ee29812e4d"
      },
      "outputs": [
        {
          "output_type": "execute_result",
          "data": {
            "text/plain": [
              "((854, 6), (854,))"
            ]
          },
          "metadata": {},
          "execution_count": 12
        }
      ],
      "source": [
        "X = np.array(X_raw)\n",
        "y = np.array(y_raw)\n",
        "(X.shape, y.shape)"
      ]
    },
    {
      "cell_type": "code",
      "execution_count": null,
      "metadata": {
        "colab": {
          "base_uri": "https://localhost:8080/"
        },
        "id": "kKeETPjgRMZj",
        "outputId": "3d559233-bb82-429d-fba6-8bee1bac33d4"
      },
      "outputs": [
        {
          "output_type": "execute_result",
          "data": {
            "text/plain": [
              "(854, 8)"
            ]
          },
          "metadata": {},
          "execution_count": 13
        }
      ],
      "source": [
        "# Using helper function for calculating NDVI and NDWI indices\n",
        "\n",
        "def band_index(arr, a, b):\n",
        "    return np.expand_dims((arr[..., a] - arr[..., b]) / (arr[..., a] + arr[..., b]), axis=1)\n",
        "\n",
        "ndvi = band_index(X, 3, 2)\n",
        "ndwi = band_index(X, 1, 3)\n",
        "\n",
        "X = np.concatenate([X, ndvi, ndwi], axis=1)\n",
        "X.shape"
      ]
    },
    {
      "cell_type": "code",
      "execution_count": null,
      "metadata": {
        "id": "q0F3c6f_RQFz"
      },
      "outputs": [],
      "source": [
        "# splitting the data into test and train sets\n",
        "X_train, X_test, y_train, y_test = train_test_split(X, y, test_size=0.2, random_state=42)"
      ]
    },
    {
      "cell_type": "code",
      "execution_count": null,
      "metadata": {
        "colab": {
          "base_uri": "https://localhost:8080/"
        },
        "id": "mI5eCDpoRWXM",
        "outputId": "fe1eedda-e68e-4610-ae0c-e3e978d58070"
      },
      "outputs": [
        {
          "output_type": "execute_result",
          "data": {
            "text/plain": [
              "{0: 0.01694915254237288,\n",
              " 1: 0.007874015748031496,\n",
              " 2: 0.07692307692307693,\n",
              " 3: 0.009009009009009009,\n",
              " 4: 0.002680965147453083}"
            ]
          },
          "metadata": {},
          "execution_count": 15
        }
      ],
      "source": [
        "# calculate class weights to allow for training on inbalanced training samples\n",
        "labels, counts = np.unique(y_train, return_counts=True)\n",
        "class_weight_dict = dict(zip(labels, 1 / counts))\n",
        "class_weight_dict"
      ]
    },
    {
      "cell_type": "code",
      "execution_count": null,
      "metadata": {
        "id": "0bOrmwHcRd_v"
      },
      "outputs": [],
      "source": [
        "# initializing a RandomForestClassifier\n",
        "clf = RandomForestClassifier(\n",
        "    n_estimators=200,\n",
        "    class_weight=class_weight_dict,\n",
        "    max_depth=6,\n",
        "    n_jobs=-1,\n",
        "    verbose=1,\n",
        "    random_state=0)"
      ]
    },
    {
      "cell_type": "code",
      "execution_count": null,
      "metadata": {
        "colab": {
          "base_uri": "https://localhost:8080/"
        },
        "id": "5uvn8Y1ERjpb",
        "outputId": "77918eb2-7319-49b5-eda3-cad6286a0a9f"
      },
      "outputs": [
        {
          "output_type": "stream",
          "name": "stderr",
          "text": [
            "[Parallel(n_jobs=-1)]: Using backend ThreadingBackend with 2 concurrent workers.\n",
            "[Parallel(n_jobs=-1)]: Done  46 tasks      | elapsed:    0.1s\n",
            "[Parallel(n_jobs=-1)]: Done 196 tasks      | elapsed:    0.6s\n",
            "[Parallel(n_jobs=-1)]: Done 200 out of 200 | elapsed:    0.6s finished\n"
          ]
        },
        {
          "output_type": "execute_result",
          "data": {
            "text/plain": [
              "RandomForestClassifier(class_weight={0: 0.01694915254237288,\n",
              "                                     1: 0.007874015748031496,\n",
              "                                     2: 0.07692307692307693,\n",
              "                                     3: 0.009009009009009009,\n",
              "                                     4: 0.002680965147453083},\n",
              "                       max_depth=6, n_estimators=200, n_jobs=-1, random_state=0,\n",
              "                       verbose=1)"
            ]
          },
          "metadata": {},
          "execution_count": 17
        }
      ],
      "source": [
        "clf.fit(X, y)"
      ]
    },
    {
      "cell_type": "code",
      "execution_count": null,
      "metadata": {
        "colab": {
          "base_uri": "https://localhost:8080/"
        },
        "id": "c6UpQs0gRnm_",
        "outputId": "560ea2b6-304c-40fc-9e4e-853393bbc6a9"
      },
      "outputs": [
        {
          "output_type": "stream",
          "name": "stderr",
          "text": [
            "[Parallel(n_jobs=2)]: Using backend ThreadingBackend with 2 concurrent workers.\n",
            "[Parallel(n_jobs=2)]: Done  46 tasks      | elapsed:    0.0s\n",
            "[Parallel(n_jobs=2)]: Done 196 tasks      | elapsed:    0.1s\n",
            "[Parallel(n_jobs=2)]: Done 200 out of 200 | elapsed:    0.1s finished\n"
          ]
        }
      ],
      "source": [
        "# predicting on X_test to evaluate the model\n",
        "preds = clf.predict(X_test)\n",
        "cm = confusion_matrix(y_test, preds, labels=labels)"
      ]
    },
    {
      "cell_type": "code",
      "execution_count": null,
      "metadata": {
        "id": "3L4osOYkRvye"
      },
      "outputs": [],
      "source": [
        "#saving the model pickle file for further use\n",
        "model_name = op.join(root_dir,'random_forest_.sav')\n",
        "with open(model_name, 'wb') as modelfile:\n",
        "    pickle.dump(clf, modelfile)"
      ]
    },
    {
      "cell_type": "code",
      "execution_count": null,
      "metadata": {
        "colab": {
          "base_uri": "https://localhost:8080/",
          "height": 706
        },
        "id": "c1pSHs3RR5zn",
        "outputId": "ca7ae708-bfa7-42c9-87f9-4c46d53c5b32"
      },
      "outputs": [
        {
          "output_type": "display_data",
          "data": {
            "text/plain": [
              "<Figure size 720x720 with 2 Axes>"
            ],
            "image/png": "[encoded data removed]"
          },
          "metadata": {
            "needs_background": "light"
          }
        }
      ],
      "source": [
        "# plotting the confusion matrix\n",
        "%matplotlib inline\n",
        "cm = cm.astype('float') / cm.sum(axis=1)[:, np.newaxis]\n",
        "fig, ax = plt.subplots(figsize=(10, 10))\n",
        "im = ax.imshow(cm, interpolation='nearest', cmap=plt.cm.Blues)\n",
        "ax.figure.colorbar(im, ax=ax)\n",
        "\n",
        "\n",
        "ax.set(xticks=np.arange(cm.shape[1]),\n",
        "       yticks=np.arange(cm.shape[0]),\n",
        "       \n",
        "       xticklabels=classes, yticklabels=classes,\n",
        "       title='Normalized Confusion Matrix',\n",
        "       ylabel='True label',\n",
        "       xlabel='Predicted label')\n",
        "\n",
        "\n",
        "plt.setp(ax.get_xticklabels(), rotation=45, ha=\"right\",\n",
        "         rotation_mode=\"anchor\")\n",
        "\n",
        "fmt = '.2f'\n",
        "thresh = cm.max() / 2.\n",
        "for i in range(cm.shape[0]):\n",
        "    for j in range(cm.shape[1]):\n",
        "        ax.text(j, i, format(cm[i, j], fmt),\n",
        "                ha=\"center\", va=\"center\",\n",
        "                color=\"white\" if cm[i, j] > thresh else \"black\")\n",
        "fig.tight_layout()"
      ]
    },
    {
      "cell_type": "code",
      "execution_count": null,
      "metadata": {
        "id": "nL9N5fK8SELz"
      },
      "outputs": [],
      "source": [
        "# predict again with the tree interpreter to see how much each band contributes to the classification\n",
        "sample = 100\n",
        "prediction, bias, contributions = ti.predict(clf, X_test[:sample])\n",
        "c = np.sum(contributions, axis=0)"
      ]
    },
    {
      "cell_type": "code",
      "execution_count": null,
      "metadata": {
        "colab": {
          "base_uri": "https://localhost:8080/",
          "height": 300
        },
        "id": "eHBU1W71SOFb",
        "outputId": "de513b30-84ec-4ccc-9f57-279a8567f180"
      },
      "outputs": [
        {
          "output_type": "execute_result",
          "data": {
            "text/plain": [
              "<pandas.io.formats.style.Styler at 0x7f5a74220fd0>"
            ],
            "text/html": [
              "<style type=\"text/css\">\n",
              "#T_5c721_row0_col0, #T_5c721_row5_col2 {\n",
              "  background-color: #20a386;\n",
              "  color: #f1f1f1;\n",
              "}\n",
              "#T_5c721_row0_col1 {\n",
              "  background-color: #31b57b;\n",
              "  color: #f1f1f1;\n",
              "}\n",
              "#T_5c721_row0_col2, #T_5c721_row5_col3, #T_5c721_row6_col0, #T_5c721_row6_col1, #T_5c721_row7_col4 {\n",
              "  background-color: #440154;\n",
              "  color: #f1f1f1;\n",
              "}\n",
              "#T_5c721_row0_col3, #T_5c721_row2_col1 {\n",
              "  background-color: #90d743;\n",
              "  color: #000000;\n",
              "}\n",
              "#T_5c721_row0_col4 {\n",
              "  background-color: #2ab07f;\n",
              "  color: #f1f1f1;\n",
              "}\n",
              "#T_5c721_row1_col0 {\n",
              "  background-color: #c2df23;\n",
              "  color: #000000;\n",
              "}\n",
              "#T_5c721_row1_col1 {\n",
              "  background-color: #35b779;\n",
              "  color: #f1f1f1;\n",
              "}\n",
              "#T_5c721_row1_col2 {\n",
              "  background-color: #2d708e;\n",
              "  color: #f1f1f1;\n",
              "}\n",
              "#T_5c721_row1_col3 {\n",
              "  background-color: #27ad81;\n",
              "  color: #f1f1f1;\n",
              "}\n",
              "#T_5c721_row1_col4 {\n",
              "  background-color: #471164;\n",
              "  color: #f1f1f1;\n",
              "}\n",
              "#T_5c721_row2_col0, #T_5c721_row5_col0 {\n",
              "  background-color: #450457;\n",
              "  color: #f1f1f1;\n",
              "}\n",
              "#T_5c721_row2_col2 {\n",
              "  background-color: #21a685;\n",
              "  color: #f1f1f1;\n",
              "}\n",
              "#T_5c721_row2_col3 {\n",
              "  background-color: #bddf26;\n",
              "  color: #000000;\n",
              "}\n",
              "#T_5c721_row2_col4, #T_5c721_row4_col4 {\n",
              "  background-color: #38598c;\n",
              "  color: #f1f1f1;\n",
              "}\n",
              "#T_5c721_row3_col0 {\n",
              "  background-color: #2f6c8e;\n",
              "  color: #f1f1f1;\n",
              "}\n",
              "#T_5c721_row3_col1 {\n",
              "  background-color: #32658e;\n",
              "  color: #f1f1f1;\n",
              "}\n",
              "#T_5c721_row3_col2 {\n",
              "  background-color: #29af7f;\n",
              "  color: #f1f1f1;\n",
              "}\n",
              "#T_5c721_row3_col3, #T_5c721_row4_col0, #T_5c721_row5_col1, #T_5c721_row5_col4, #T_5c721_row6_col2 {\n",
              "  background-color: #fde725;\n",
              "  color: #000000;\n",
              "}\n",
              "#T_5c721_row3_col4 {\n",
              "  background-color: #424086;\n",
              "  color: #f1f1f1;\n",
              "}\n",
              "#T_5c721_row4_col1 {\n",
              "  background-color: #3d4e8a;\n",
              "  color: #f1f1f1;\n",
              "}\n",
              "#T_5c721_row4_col2 {\n",
              "  background-color: #32648e;\n",
              "  color: #f1f1f1;\n",
              "}\n",
              "#T_5c721_row4_col3 {\n",
              "  background-color: #48c16e;\n",
              "  color: #f1f1f1;\n",
              "}\n",
              "#T_5c721_row6_col3 {\n",
              "  background-color: #2b748e;\n",
              "  color: #f1f1f1;\n",
              "}\n",
              "#T_5c721_row6_col4 {\n",
              "  background-color: #c8e020;\n",
              "  color: #000000;\n",
              "}\n",
              "#T_5c721_row7_col0 {\n",
              "  background-color: #32b67a;\n",
              "  color: #f1f1f1;\n",
              "}\n",
              "#T_5c721_row7_col1 {\n",
              "  background-color: #218e8d;\n",
              "  color: #f1f1f1;\n",
              "}\n",
              "#T_5c721_row7_col2 {\n",
              "  background-color: #1e9d89;\n",
              "  color: #f1f1f1;\n",
              "}\n",
              "#T_5c721_row7_col3 {\n",
              "  background-color: #98d83e;\n",
              "  color: #000000;\n",
              "}\n",
              "</style>\n",
              "<table id=\"T_5c721_\" class=\"dataframe\">\n",
              "  <thead>\n",
              "    <tr>\n",
              "      <th class=\"blank level0\" >&nbsp;</th>\n",
              "      <th class=\"col_heading level0 col0\" >Grass</th>\n",
              "      <th class=\"col_heading level0 col1\" >Oil_seed_rape</th>\n",
              "      <th class=\"col_heading level0 col2\" >Urban</th>\n",
              "      <th class=\"col_heading level0 col3\" >Vining_Beans</th>\n",
              "      <th class=\"col_heading level0 col4\" >Wheat</th>\n",
              "    </tr>\n",
              "  </thead>\n",
              "  <tbody>\n",
              "    <tr>\n",
              "      <th id=\"T_5c721_level0_row0\" class=\"row_heading level0 row0\" >Blue</th>\n",
              "      <td id=\"T_5c721_row0_col0\" class=\"data row0 col0\" >-1.182543</td>\n",
              "      <td id=\"T_5c721_row0_col1\" class=\"data row0 col1\" >0.672480</td>\n",
              "      <td id=\"T_5c721_row0_col2\" class=\"data row0 col2\" >-3.901252</td>\n",
              "      <td id=\"T_5c721_row0_col3\" class=\"data row0 col3\" >0.456470</td>\n",
              "      <td id=\"T_5c721_row0_col4\" class=\"data row0 col4\" >3.954845</td>\n",
              "    </tr>\n",
              "    <tr>\n",
              "      <th id=\"T_5c721_level0_row1\" class=\"row_heading level0 row1\" >Green</th>\n",
              "      <td id=\"T_5c721_row1_col0\" class=\"data row1 col0\" >-0.212342</td>\n",
              "      <td id=\"T_5c721_row1_col1\" class=\"data row1 col1\" >0.704144</td>\n",
              "      <td id=\"T_5c721_row1_col2\" class=\"data row1 col2\" >-2.580270</td>\n",
              "      <td id=\"T_5c721_row1_col3\" class=\"data row1 col3\" >-0.123010</td>\n",
              "      <td id=\"T_5c721_row1_col4\" class=\"data row1 col4\" >2.211478</td>\n",
              "    </tr>\n",
              "    <tr>\n",
              "      <th id=\"T_5c721_level0_row2\" class=\"row_heading level0 row2\" >Red</th>\n",
              "      <td id=\"T_5c721_row2_col0\" class=\"data row2 col0\" >-2.856960</td>\n",
              "      <td id=\"T_5c721_row2_col1\" class=\"data row2 col1\" >1.086123</td>\n",
              "      <td id=\"T_5c721_row2_col2\" class=\"data row2 col2\" >-1.764771</td>\n",
              "      <td id=\"T_5c721_row2_col3\" class=\"data row2 col3\" >0.643970</td>\n",
              "      <td id=\"T_5c721_row2_col4\" class=\"data row2 col4\" >2.891639</td>\n",
              "    </tr>\n",
              "    <tr>\n",
              "      <th id=\"T_5c721_level0_row3\" class=\"row_heading level0 row3\" >NIR</th>\n",
              "      <td id=\"T_5c721_row3_col0\" class=\"data row3 col0\" >-1.855803</td>\n",
              "      <td id=\"T_5c721_row3_col1\" class=\"data row3 col1\" >-0.089399</td>\n",
              "      <td id=\"T_5c721_row3_col2\" class=\"data row3 col2\" >-1.613553</td>\n",
              "      <td id=\"T_5c721_row3_col3\" class=\"data row3 col3\" >0.918445</td>\n",
              "      <td id=\"T_5c721_row3_col4\" class=\"data row3 col4\" >2.640309</td>\n",
              "    </tr>\n",
              "    <tr>\n",
              "      <th id=\"T_5c721_level0_row4\" class=\"row_heading level0 row4\" >SWIR1</th>\n",
              "      <td id=\"T_5c721_row4_col0\" class=\"data row4 col0\" >0.052523</td>\n",
              "      <td id=\"T_5c721_row4_col1\" class=\"data row4 col1\" >-0.294542</td>\n",
              "      <td id=\"T_5c721_row4_col2\" class=\"data row4 col2\" >-2.756067</td>\n",
              "      <td id=\"T_5c721_row4_col3\" class=\"data row4 col3\" >0.106199</td>\n",
              "      <td id=\"T_5c721_row4_col4\" class=\"data row4 col4\" >2.891887</td>\n",
              "    </tr>\n",
              "    <tr>\n",
              "      <th id=\"T_5c721_level0_row5\" class=\"row_heading level0 row5\" >SWIR2</th>\n",
              "      <td id=\"T_5c721_row5_col0\" class=\"data row5 col0\" >-2.857315</td>\n",
              "      <td id=\"T_5c721_row5_col1\" class=\"data row5 col1\" >1.473799</td>\n",
              "      <td id=\"T_5c721_row5_col2\" class=\"data row5 col2\" >-1.805828</td>\n",
              "      <td id=\"T_5c721_row5_col3\" class=\"data row5 col3\" >-1.854632</td>\n",
              "      <td id=\"T_5c721_row5_col4\" class=\"data row5 col4\" >5.043977</td>\n",
              "    </tr>\n",
              "    <tr>\n",
              "      <th id=\"T_5c721_level0_row6\" class=\"row_heading level0 row6\" >NDVI</th>\n",
              "      <td id=\"T_5c721_row6_col0\" class=\"data row6 col0\" >-2.889604</td>\n",
              "      <td id=\"T_5c721_row6_col1\" class=\"data row6 col1\" >-0.839096</td>\n",
              "      <td id=\"T_5c721_row6_col2\" class=\"data row6 col2\" >-0.282945</td>\n",
              "      <td id=\"T_5c721_row6_col3\" class=\"data row6 col3\" >-0.782795</td>\n",
              "      <td id=\"T_5c721_row6_col4\" class=\"data row6 col4\" >4.794439</td>\n",
              "    </tr>\n",
              "    <tr>\n",
              "      <th id=\"T_5c721_level0_row7\" class=\"row_heading level0 row7\" >NDWI</th>\n",
              "      <td id=\"T_5c721_row7_col0\" class=\"data row7 col0\" >-0.954113</td>\n",
              "      <td id=\"T_5c721_row7_col1\" class=\"data row7 col1\" >0.295894</td>\n",
              "      <td id=\"T_5c721_row7_col2\" class=\"data row7 col2\" >-1.907309</td>\n",
              "      <td id=\"T_5c721_row7_col3\" class=\"data row7 col3\" >0.489024</td>\n",
              "      <td id=\"T_5c721_row7_col4\" class=\"data row7 col4\" >2.076504</td>\n",
              "    </tr>\n",
              "  </tbody>\n",
              "</table>\n"
            ]
          },
          "metadata": {},
          "execution_count": 22
        }
      ],
      "source": [
        "# plot the contributions\n",
        "band_names = ['Blue', 'Green', 'Red', 'NIR', 'SWIR1', 'SWIR2', 'NDVI', 'NDWI']\n",
        "\n",
        "gdf = gpd.GeoDataFrame(c, columns=classes, index=band_names)\n",
        "gdf.style.background_gradient(cmap='viridis')"
      ]
    },
    {
      "cell_type": "code",
      "execution_count": null,
      "metadata": {
        "colab": {
          "base_uri": "https://localhost:8080/"
        },
        "id": "UcoXda16SUSn",
        "outputId": "dcc9892c-3f14-4a90-f315-c5dad09b155e"
      },
      "outputs": [
        {
          "output_type": "stream",
          "name": "stderr",
          "text": [
            "[Parallel(n_jobs=2)]: Using backend ThreadingBackend with 2 concurrent workers.\n",
            "[Parallel(n_jobs=2)]: Done  46 tasks      | elapsed:    0.1s\n",
            "[Parallel(n_jobs=2)]: Done 196 tasks      | elapsed:    0.4s\n",
            "[Parallel(n_jobs=2)]: Done 200 out of 200 | elapsed:    0.4s finished\n"
          ]
        }
      ],
      "source": [
        "# in this case, we predict over the entire input image\n",
        "# (only small portions were used for training)\n",
        "new_image = raster_file\n",
        "\n",
        "# specify the output\n",
        "output_image = op.join(root_dir, \"rf_classification_testnew.tif\")\n",
        "\n",
        "with rasterio.open(new_image, 'r') as src:\n",
        "    profile = src.profile\n",
        "    profile.update(\n",
        "        dtype=rasterio.uint8,\n",
        "        count=1,\n",
        "    )\n",
        "    with rasterio.open(output_image, 'w', **profile) as dst:\n",
        "\n",
        "        # perform prediction on each small image patch to minimize required memory\n",
        "        patch_size = 500\n",
        "\n",
        "        for i in range((src.shape[0] // patch_size) + 1):\n",
        "            for j in range((src.shape[1] // patch_size) + 1):\n",
        "                # define the pixels to read (and write) with rasterio windows reading\n",
        "                window = rasterio.windows.Window(\n",
        "                    j * patch_size,\n",
        "                    i * patch_size,\n",
        "                    # don't read past the image bounds\n",
        "                    min(patch_size, src.shape[1] - j * patch_size),\n",
        "                    min(patch_size, src.shape[0] - i * patch_size))\n",
        "                \n",
        "                # read the image into the proper format\n",
        "                data = src.read(window=window)\n",
        "                \n",
        "                # adding indices if necessary\n",
        "                img_swp = np.moveaxis(data, 0, 2)\n",
        "                img_flat = img_swp.reshape(-1, img_swp.shape[-1])\n",
        "\n",
        "                img_ndvi = band_index(img_flat, 3, 2)\n",
        "                img_ndwi = band_index(img_flat, 1, 3)\n",
        "\n",
        "                img_w_ind = np.concatenate([img_flat, img_ndvi, img_ndwi], axis=1)\n",
        "\n",
        "                # remove no data values, store the indices for later use\n",
        "                m = np.ma.masked_invalid(img_w_ind)\n",
        "                to_predict = img_w_ind[~m.mask].reshape(-1, img_w_ind.shape[-1])\n",
        "\n",
        "                # skip empty inputs\n",
        "                if not len(to_predict):\n",
        "                    continue\n",
        "                # predict\n",
        "                img_preds = clf.predict(to_predict)\n",
        "\n",
        "                # add the prediction back to the valid pixels (using only the first band of the mask to decide on validity)\n",
        "                # makes the assumption that all bands have identical no-data value arrangements\n",
        "                output = np.zeros(img_flat.shape[0])\n",
        "                output[~m.mask[:, 0]] = img_preds.flatten()\n",
        "                # resize to the original image dimensions\n",
        "                output = output.reshape(*img_swp.shape[:-1])\n",
        "\n",
        "                # create our final mask\n",
        "                mask = (~m.mask[:, 0]).reshape(*img_swp.shape[:-1])\n",
        "\n",
        "                # write to the final files\n",
        "                dst.write(output.astype(rasterio.uint8), 1, window=window)\n",
        "                dst.write_mask(mask, window=window)"
      ]
    },
    {
      "cell_type": "code",
      "execution_count": null,
      "metadata": {
        "id": "8eO236Hh1wQF"
      },
      "outputs": [],
      "source": []
    },
    {
      "cell_type": "code",
      "execution_count": null,
      "metadata": {
        "colab": {
          "base_uri": "https://localhost:8080/",
          "height": 369
        },
        "id": "sxUXQYRISyFg",
        "outputId": "e96ab199-6df2-431b-df14-755628318f91"
      },
      "outputs": [
        {
          "output_type": "stream",
          "name": "stderr",
          "text": [
            "/usr/local/lib/python3.7/dist-packages/ipykernel_launcher.py:15: DeprecationWarning: `np.float` is a deprecated alias for the builtin `float`. To silence this warning, use `float` by itself. Doing this will not modify any behavior and is safe. If you specifically wanted the numpy scalar type, use `np.float64` here.\n",
            "Deprecated in NumPy 1.20; for more details and guidance: https://numpy.org/devdocs/release/1.20.0-notes.html#deprecations\n",
            "  from ipykernel import kernelapp as app\n"
          ]
        },
        {
          "output_type": "execute_result",
          "data": {
            "text/plain": [
              "<matplotlib.axes._subplots.AxesSubplot at 0x7f5a73bc5c50>"
            ]
          },
          "metadata": {},
          "execution_count": 24
        },
        {
          "output_type": "display_data",
          "data": {
            "text/plain": [
              "<Figure size 720x288 with 2 Axes>"
            ],
            "image/png": "[encoded data removed]"
          },
          "metadata": {
            "needs_background": "light"
          }
        }
      ],
      "source": [
        "### Visualize the results\n",
        "import matplotlib.pyplot as plt\n",
        "from rasterio.plot import show\n",
        "%matplotlib inline\n",
        "\n",
        "# Load the original image\n",
        "# Load the classification\n",
        "\n",
        "output_image = '/content/drive/My Drive/Colab Notebooks/Image_classification_data/rf_classification_testnew.tif'\n",
        "\n",
        "def linear_rescale(image, in_range=(0, 1), out_range=(1, 255)):\n",
        "    imin, imax = in_range\n",
        "    omin, omax = out_range\n",
        "    image = np.clip(image, imin, imax) - imin\n",
        "    image = image / np.float(imax - imin)\n",
        "    return image * (omax - omin) + omin\n",
        "\n",
        "with rasterio.open(output_image, 'r') as class_raster:\n",
        "#  show(class_raster)\n",
        "  classes = class_raster.read()\n",
        "\n",
        "# Compare side by side\n",
        "with rasterio.open(raster_file, 'r') as s2_raster:\n",
        "#  show(s2_raster)\n",
        "  s2 = s2_raster.read([1,2,3])\n",
        "  for band in range(s2.shape[0]):\n",
        "    s2[band] = linear_rescale(\n",
        "            s2[band], \n",
        "            in_range=(0, 3000), \n",
        "            out_range=[0, 255]\n",
        "        )\n",
        "  s2 = s2.astype(np.uint8)\n",
        "  #print(s2.shape)\n",
        "\n",
        "fig, (ax1, ax2) = plt.subplots(ncols=2, nrows=1, figsize=(10, 4), sharey=True)\n",
        "show(classes, transform=class_raster.transform, ax=ax1)\n",
        "show(s2[[2,1,0], : , :], transform=s2_raster.transform, adjust='linear', ax=ax2)"
      ]
    },
    {
      "cell_type": "code",
      "execution_count": null,
      "metadata": {
        "colab": {
          "base_uri": "https://localhost:8080/"
        },
        "id": "9LMoOwLAgOXh",
        "outputId": "cfed3a6c-66f3-4bfe-d542-24dc7cd8d0be"
      },
      "outputs": [
        {
          "output_type": "stream",
          "name": "stdout",
          "text": [
            "Confusion Matrix\n",
            "[[13  0  0  0  0]\n",
            " [ 0 31  0  2  1]\n",
            " [ 0  0  3  0  0]\n",
            " [ 0  0  0 22  0]\n",
            " [ 0 16  0  2 81]]\n",
            "Test Set: 171\n",
            "Accuracy = 87.71929824561403 %\n"
          ]
        },
        {
          "output_type": "stream",
          "name": "stderr",
          "text": [
            "[Parallel(n_jobs=2)]: Using backend ThreadingBackend with 2 concurrent workers.\n",
            "[Parallel(n_jobs=2)]: Done  46 tasks      | elapsed:    0.0s\n",
            "[Parallel(n_jobs=2)]: Done 196 tasks      | elapsed:    0.1s\n",
            "[Parallel(n_jobs=2)]: Done 200 out of 200 | elapsed:    0.1s finished\n"
          ]
        }
      ],
      "source": [
        "from sklearn.metrics import confusion_matrix\n",
        "percentage = clf.score(X_test, y_test)\n",
        "res = confusion_matrix(y_test, preds)\n",
        "print(\"Confusion Matrix\")\n",
        "print(res)\n",
        "print(f\"Test Set: {len(X_test)}\")\n",
        "print(f\"Accuracy = {percentage*100} %\")"
      ]
    },
    {
      "cell_type": "markdown",
      "metadata": {
        "id": "CKVYy914RnKa"
      },
      "source": []
    },
    {
      "cell_type": "code",
      "source": [
        "from sklearn.metrics import cohen_kappa_score\n",
        "cohen_score = cohen_kappa_score(y_test, preds)\n",
        "cohen_score"
      ],
      "metadata": {
        "id": "gdlVVOzqWr3Y",
        "colab": {
          "base_uri": "https://localhost:8080/"
        },
        "outputId": "9da6fbd9-f39d-43e8-8ab1-bc16bb5d2b3b"
      },
      "execution_count": null,
      "outputs": [
        {
          "output_type": "execute_result",
          "data": {
            "text/plain": [
              "0.8087350199733688"
            ]
          },
          "metadata": {},
          "execution_count": 26
        }
      ]
    },
    {
      "cell_type": "markdown",
      "metadata": {
        "id": "kq-lU8k_RnP3"
      },
      "source": []
    },
    {
      "cell_type": "markdown",
      "metadata": {
        "id": "nFoSqhQqRnTp"
      },
      "source": []
    }
  ],
  "metadata": {
    "colab": {
      "provenance": [],
      "include_colab_link": true
    },
    "kernelspec": {
      "display_name": "Python 3",
      "name": "python3"
    },
    "language_info": {
      "name": "python"
    }
  },
  "nbformat": 4,
  "nbformat_minor": 0
}